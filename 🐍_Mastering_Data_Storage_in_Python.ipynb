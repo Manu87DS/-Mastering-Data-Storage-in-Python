{
  "nbformat": 4,
  "nbformat_minor": 0,
  "metadata": {
    "colab": {
      "provenance": [],
      "authorship_tag": "ABX9TyP7G5sATfcsrzzVyzJc/0OM"
    },
    "kernelspec": {
      "name": "python3",
      "display_name": "Python 3"
    },
    "language_info": {
      "name": "python"
    }
  },
  "cells": [
    {
      "cell_type": "markdown",
      "source": [
        "SOURCE : https://www.youtube.com/watch?v=u4rsA5ZiTls"
      ],
      "metadata": {
        "id": "FsdMyumErXc6"
      }
    },
    {
      "cell_type": "code",
      "execution_count": 1,
      "metadata": {
        "colab": {
          "base_uri": "https://localhost:8080/"
        },
        "id": "Gxn2XrIlrMqN",
        "outputId": "90f5f1d0-bb66-43b3-c5a0-4c557e9688c8"
      },
      "outputs": [
        {
          "output_type": "stream",
          "name": "stdout",
          "text": [
            "Reading and writing CSV\n",
            "CPU times: user 25.6 s, sys: 480 ms, total: 26 s\n",
            "Wall time: 28.9 s\n",
            "CPU times: user 3.25 s, sys: 627 ms, total: 3.88 s\n",
            "Wall time: 3.89 s\n",
            "Reading and writing Pickle\n",
            "CPU times: user 11.3 ms, sys: 78.8 ms, total: 90.1 ms\n",
            "Wall time: 89.9 ms\n",
            "CPU times: user 3.41 ms, sys: 40.9 ms, total: 44.3 ms\n",
            "Wall time: 44.5 ms\n",
            "Reading and writing Parquet\n",
            "CPU times: user 697 ms, sys: 140 ms, total: 837 ms\n",
            "Wall time: 958 ms\n",
            "CPU times: user 363 ms, sys: 176 ms, total: 539 ms\n",
            "Wall time: 556 ms\n",
            "Reading and writing Feather\n",
            "CPU times: user 391 ms, sys: 47.1 ms, total: 438 ms\n",
            "Wall time: 310 ms\n",
            "CPU times: user 174 ms, sys: 102 ms, total: 276 ms\n",
            "Wall time: 169 ms\n"
          ]
        }
      ],
      "source": [
        "import pandas as pd\n",
        "import numpy as np\n",
        "\n",
        "def get_dataset(size):\n",
        "    # Create Fake Dataset\n",
        "    df = pd.DataFrame()\n",
        "    df['size'] = np.random.choice(['big','medium','small'], size)\n",
        "    df['age'] = np.random.randint(1, 50, size)\n",
        "    df['team'] = np.random.choice(['red','blue','yellow','green'], size)\n",
        "    df['win'] = np.random.choice(['yes','no'], size)\n",
        "    dates = pd.date_range('2020-01-01', '2022-12-31')\n",
        "    df['date'] = np.random.choice(dates, size)\n",
        "    df['prob'] = np.random.uniform(0, 1, size)\n",
        "    return df\n",
        "\n",
        "def set_dtypes(df):\n",
        "    df['size'] = df['size'].astype('category')\n",
        "    df['team'] = df['team'].astype('category')\n",
        "    df['age'] = df['age'].astype('int16')\n",
        "    df['win'] = df['win'].map({'yes':True, 'no': False})\n",
        "    df['prob'] = df['prob'].astype('float32')\n",
        "    return df\n",
        "print('Reading and writing CSV')\n",
        "df = get_dataset(5_000_000)\n",
        "df = set_dtypes(df)\n",
        "%time df.to_csv('test.csv')\n",
        "%time df_csv = pd.read_csv('test.csv')\n",
        "\n",
        "print('Reading and writing Pickle')\n",
        "df = get_dataset(5_000_000)\n",
        "df = set_dtypes(df)\n",
        "%time df.to_pickle('test.pickle')\n",
        "%time df_pickle = pd.read_pickle('test.pickle')\n",
        "\n",
        "print('Reading and writing Parquet')\n",
        "df = get_dataset(5_000_000)\n",
        "df = set_dtypes(df)\n",
        "%time df.to_parquet('test.parquet')\n",
        "%time df_parquet = pd.read_parquet('test.parquet')\n",
        "\n",
        "print('Reading and writing Feather')\n",
        "df = get_dataset(5_000_000)\n",
        "df = set_dtypes(df)\n",
        "%time df.to_feather('test.feather')\n",
        "%time df_feather = pd.read_feather('test.feather')"
      ]
    }
  ]
}